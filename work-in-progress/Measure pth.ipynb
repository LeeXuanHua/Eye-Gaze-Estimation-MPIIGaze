{
 "cells": [
  {
   "cell_type": "code",
   "execution_count": 7,
   "metadata": {},
   "outputs": [
    {
     "name": "stdout",
     "output_type": "stream",
     "text": [
      "Shape = (3000, 2)\n"
     ]
    },
    {
     "data": {
      "text/plain": [
       "array([[-0.05211857,  0.24736059],\n",
       "       [-0.22994351,  0.07627034],\n",
       "       [-0.03047385,  0.17506164],\n",
       "       ...,\n",
       "       [-0.12187347,  0.00482405],\n",
       "       [-0.19840781,  0.05791347],\n",
       "       [-0.06694422, -0.26978454]], dtype=float32)"
      ]
     },
     "execution_count": 7,
     "metadata": {},
     "output_type": "execute_result"
    }
   ],
   "source": [
    "import numpy\n",
    "\n",
    "gts = numpy.load(r\"C:\\Users\\lee_x\\GitHub-Projects\\Machine-Learning\\GazeEstimation_MPIIGaze\\experiments\\mpiigaze\\lenet\\exp00\\00\\eval\\checkpoint_0010\\gts.npy\")\n",
    "print(f\"Shape = {gts.shape}\")\n",
    "gts"
   ]
  },
  {
   "cell_type": "code",
   "execution_count": 8,
   "metadata": {},
   "outputs": [
    {
     "name": "stdout",
     "output_type": "stream",
     "text": [
      "Shape = (3000, 2)\n"
     ]
    },
    {
     "data": {
      "text/plain": [
       "array([[-0.06367364,  0.24335942],\n",
       "       [-0.2408465 ,  0.01203248],\n",
       "       [-0.04066887,  0.21366489],\n",
       "       ...,\n",
       "       [-0.17390007,  0.13836005],\n",
       "       [-0.20226353,  0.1614184 ],\n",
       "       [-0.13781717, -0.20231016]], dtype=float32)"
      ]
     },
     "execution_count": 8,
     "metadata": {},
     "output_type": "execute_result"
    }
   ],
   "source": [
    "gts = numpy.load(r\"C:\\Users\\lee_x\\GitHub-Projects\\Machine-Learning\\GazeEstimation_MPIIGaze\\experiments\\mpiigaze\\lenet\\exp00\\00\\eval\\checkpoint_0010\\predictions.npy\")\n",
    "print(f\"Shape = {gts.shape}\")\n",
    "gts"
   ]
  },
  {
   "cell_type": "code",
   "execution_count": null,
   "metadata": {},
   "outputs": [],
   "source": [
    "import h5py\n",
    "\n",
    "with h5py.File(dataset_path, 'r') as f:\n",
    "    images = f.get(f'{person_id_str}/image')[()]\n",
    "    poses = f.get(f'{person_id_str}/pose')[()]\n",
    "    gazes = f.get(f'{person_id_str}/gaze')[()]"
   ]
  },
  {
   "cell_type": "code",
   "execution_count": 17,
   "metadata": {},
   "outputs": [
    {
     "name": "stdout",
     "output_type": "stream",
     "text": [
      "Keys: <KeysViewHDF5 ['p00', 'p01', 'p02', 'p03', 'p04', 'p05', 'p06', 'p07', 'p08', 'p09', 'p10', 'p11', 'p12', 'p13', 'p14']>\n",
      "First key: p00\n",
      "<HDF5 group \"/p00\" (3 members)>\n",
      "<class 'h5py._hl.group.Group'>\n",
      "data = ['gaze', 'image', 'pose']\n",
      "data = ['gaze', 'image', 'pose']\n",
      "ds_obj = <HDF5 group \"/p00\" (3 members)>\n",
      "<HDF5 dataset \"pose\": shape (3000, 2), type \"<f4\">\n"
     ]
    }
   ],
   "source": [
    "import h5py\n",
    "filename = f\"datasets\\MPIIGaze.h5\"\n",
    "\n",
    "with h5py.File(filename, \"r\") as f:\n",
    "    # Print all root level object names (aka keys) \n",
    "    # these can be group or dataset names \n",
    "    print(\"Keys: %s\" % f.keys())\n",
    "    # get first object name/key; may or may NOT be a group\n",
    "    a_group_key = list(f.keys())[0]\n",
    "    print(f\"First key: {a_group_key}\")\n",
    "    print(f.get(a_group_key))\n",
    "\n",
    "    # get the object type for a_group_key: usually group or dataset\n",
    "    print(type(f[a_group_key])) \n",
    "\n",
    "    # If a_group_key is a group name, \n",
    "    # this gets the object names in the group and returns as a list\n",
    "    data = list(f[a_group_key])\n",
    "    print(f\"data = {data}\")\n",
    "\n",
    "    # If a_group_key is a dataset name, \n",
    "    # this gets the dataset values and returns as a list\n",
    "    data = list(f[a_group_key])\n",
    "    print(f\"data = {data}\")\n",
    "    # preferred methods to get dataset values:\n",
    "    ds_obj = f[a_group_key]      # returns as a h5py dataset object\n",
    "    # ds_arr = f[a_group_key][()]  # returns as a numpy array\n",
    "    print(f\"ds_obj = {ds_obj}\")\n",
    "\n",
    "    print(f.get(a_group_key).get(\"pose\"))"
   ]
  }
 ],
 "metadata": {
  "kernelspec": {
   "display_name": "Python 3",
   "language": "python",
   "name": "python3"
  },
  "language_info": {
   "codemirror_mode": {
    "name": "ipython",
    "version": 3
   },
   "file_extension": ".py",
   "mimetype": "text/x-python",
   "name": "python",
   "nbconvert_exporter": "python",
   "pygments_lexer": "ipython3",
   "version": "3.9.5"
  },
  "orig_nbformat": 4,
  "vscode": {
   "interpreter": {
    "hash": "4f760b9e6be9c83b1915cbbde8c157c3697c3b1064baafa6b1fc68b577c71cc4"
   }
  }
 },
 "nbformat": 4,
 "nbformat_minor": 2
}
